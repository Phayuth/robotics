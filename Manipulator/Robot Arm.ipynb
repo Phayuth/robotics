{
 "cells": [
  {
   "cell_type": "code",
   "execution_count": 1,
   "metadata": {
    "executionInfo": {
     "elapsed": 3840,
     "status": "ok",
     "timestamp": 1662973346537,
     "user": {
      "displayName": "Pha Yuth",
      "userId": "17204196560708160409"
     },
     "user_tz": -540
    },
    "id": "ccccqDBzxqo7"
   },
   "outputs": [],
   "source": [
    "# Import Lib\n",
    "import numpy as np\n",
    "import tensorflow as tf                        #tensorflow achitecture\n",
    "from tensorflow import keras                   #Python interface for artificial neural networks. Keras acts as an interface for the TensorFlow library.\n",
    "import matplotlib.pyplot as plt                #graph plot"
   ]
  },
  {
   "cell_type": "code",
   "execution_count": 3,
   "metadata": {
    "colab": {
     "base_uri": "https://localhost:8080/"
    },
    "executionInfo": {
     "elapsed": 705,
     "status": "ok",
     "timestamp": 1662973863659,
     "user": {
      "displayName": "Pha Yuth",
      "userId": "17204196560708160409"
     },
     "user_tz": -540
    },
    "id": "HbaL2Osw9oUd",
    "outputId": "5edee099-68b7-4010-af6b-d6dfc0160060"
   },
   "outputs": [
    {
     "name": "stdout",
     "output_type": "stream",
     "text": [
      "Downloading data from https://storage.googleapis.com/tensorflow/tf-keras-datasets/mnist.npz\n",
      "11493376/11490434 [==============================] - 0s 0us/step\n",
      "11501568/11490434 [==============================] - 0s 0us/step\n"
     ]
    }
   ],
   "source": [
    "(x_train,y_train),(x_test,y_test) = tf.keras.datasets.mnist.load_data()"
   ]
  },
  {
   "cell_type": "code",
   "execution_count": 11,
   "metadata": {
    "colab": {
     "base_uri": "https://localhost:8080/"
    },
    "executionInfo": {
     "elapsed": 3,
     "status": "ok",
     "timestamp": 1662976155670,
     "user": {
      "displayName": "Pha Yuth",
      "userId": "17204196560708160409"
     },
     "user_tz": -540
    },
    "id": "-WHi3fBJ94n_",
    "outputId": "2e173129-4276-4a3a-96d7-a0cf08a84dcd"
   },
   "outputs": [
    {
     "name": "stdout",
     "output_type": "stream",
     "text": [
      "(28, 28)\n",
      "()\n",
      "(10000, 28, 28)\n",
      "(10000,)\n"
     ]
    }
   ],
   "source": [
    "print(x_train[0].shape)\n",
    "print(y_train[0].shape)\n",
    "print(x_test.shape)\n",
    "print(y_test.shape)"
   ]
  },
  {
   "cell_type": "code",
   "execution_count": 9,
   "metadata": {
    "colab": {
     "base_uri": "https://localhost:8080/"
    },
    "executionInfo": {
     "elapsed": 256,
     "status": "ok",
     "timestamp": 1662974035336,
     "user": {
      "displayName": "Pha Yuth",
      "userId": "17204196560708160409"
     },
     "user_tz": -540
    },
    "id": "Qj-_pc-T-dVe",
    "outputId": "a464c8ee-b026-4e0e-a8ad-cee6e40b6fb6"
   },
   "outputs": [
    {
     "data": {
      "text/plain": [
       "array([5, 0, 4, ..., 5, 6, 8], dtype=uint8)"
      ]
     },
     "execution_count": 9,
     "metadata": {},
     "output_type": "execute_result"
    }
   ],
   "source": [
    "y_train"
   ]
  },
  {
   "cell_type": "code",
   "execution_count": 2,
   "metadata": {
    "colab": {
     "base_uri": "https://localhost:8080/"
    },
    "executionInfo": {
     "elapsed": 374,
     "status": "ok",
     "timestamp": 1662973353666,
     "user": {
      "displayName": "Pha Yuth",
      "userId": "17204196560708160409"
     },
     "user_tz": -540
    },
    "id": "sKfSrwDRcHVy",
    "outputId": "e76e673d-4a03-4449-e2dd-01fba38c4d57"
   },
   "outputs": [
    {
     "data": {
      "text/plain": [
       "(1000, 3)"
      ]
     },
     "execution_count": 2,
     "metadata": {},
     "output_type": "execute_result"
    }
   ],
   "source": [
    "# Difine Parameter\n",
    "l1 = 2\n",
    "l2 = 2\n",
    "l3 = 2\n",
    "\n",
    "q1 = np.linspace(0, np.pi, num=1000)\n",
    "q2 = np.linspace(-np.pi, 0, num=1000)\n",
    "q3 = np.linspace(-np.pi/2, np.pi/2, num=1000)\n",
    "\n",
    "y_train = np.array([[q1[0],q2[0],q3[0]]])\n",
    "\n",
    "for i in range(999):\n",
    "  y_train = np.append(y_train,[[q1[i],q2[i],q1[i]]],axis=0)\n",
    "\n",
    "# y_train = np.array([q1[0],q2[0],q3[0]])\n",
    "# for i in range(999):\n",
    "#   y_train = np.append(y_train,[q1[i],q2[i],q1[i]],axis=0)\n",
    "\n",
    "y_train.shape"
   ]
  },
  {
   "cell_type": "code",
   "execution_count": null,
   "metadata": {
    "colab": {
     "base_uri": "https://localhost:8080/"
    },
    "executionInfo": {
     "elapsed": 269,
     "status": "ok",
     "timestamp": 1662718513737,
     "user": {
      "displayName": "Pha Yuth",
      "userId": "17204196560708160409"
     },
     "user_tz": -540
    },
    "id": "Bf8p7Pn7xooJ",
    "outputId": "b527fadf-ad83-4ba6-c689-453606134c49"
   },
   "outputs": [
    {
     "data": {
      "text/plain": [
       "(1000, 3)"
      ]
     },
     "execution_count": 64,
     "metadata": {},
     "output_type": "execute_result"
    }
   ],
   "source": [
    "# Equation\n",
    "def arm(q1,q2,q3):\n",
    "  xE = l1*np.cos(q1) + l2*np.cos(q1+q2) + l3*np.cos(q1+q2+q3)\n",
    "  yE = l1*np.sin(q1) + l2*np.sin(q1+q2) + l3*np.sin(q1+q2+q3)\n",
    "  tE = q1+q2+q3\n",
    "  return xE,yE,tE\n",
    "\n",
    "xl,yl,tl = arm(q1,q2,q3)\n",
    "\n",
    "x_train = np.array([[xl[0],yl[0],tl[0]]])\n",
    "\n",
    "for i in range(999):\n",
    "  x_train = np.append(x_train,[[xl[i],yl[i],tl[i]]],axis=0)\n",
    "\n",
    "x_train.shape"
   ]
  },
  {
   "cell_type": "code",
   "execution_count": null,
   "metadata": {
    "colab": {
     "base_uri": "https://localhost:8080/"
    },
    "executionInfo": {
     "elapsed": 269,
     "status": "ok",
     "timestamp": 1662718516882,
     "user": {
      "displayName": "Pha Yuth",
      "userId": "17204196560708160409"
     },
     "user_tz": -540
    },
    "id": "E_TYnjNYzsD4",
    "outputId": "0a39505c-1ce5-4d7a-e29e-164c5778f811"
   },
   "outputs": [
    {
     "name": "stdout",
     "output_type": "stream",
     "text": [
      "Model: \"sequential_3\"\n",
      "_________________________________________________________________\n",
      " Layer (type)                Output Shape              Param #   \n",
      "=================================================================\n",
      " dense_6 (Dense)             (None, 100)               400       \n",
      "                                                                 \n",
      " dense_7 (Dense)             (None, 3)                 303       \n",
      "                                                                 \n",
      "=================================================================\n",
      "Total params: 703\n",
      "Trainable params: 703\n",
      "Non-trainable params: 0\n",
      "_________________________________________________________________\n"
     ]
    }
   ],
   "source": [
    "# Create Model\n",
    "model = keras.Sequential(\n",
    "    [\n",
    "        keras.Input(shape=(3)),\n",
    "        keras.layers.Dense(100, activation=\"tanh\"),\n",
    "        keras.layers.Dense(3, activation= \"sigmoid\"),\n",
    "    ]\n",
    ")\n",
    "\n",
    "model.summary()"
   ]
  },
  {
   "cell_type": "code",
   "execution_count": null,
   "metadata": {
    "id": "9yMO1Kazz1Oj"
   },
   "outputs": [],
   "source": [
    "# Compile \n",
    "model.compile(\n",
    "    loss=keras.losses.SparseCategoricalCrossentropy(from_logits=False),\n",
    "    optimizer=keras.optimizers.Adam(learning_rate=0.001), # choose optimizer and learning rate\n",
    "    metrics=[\"accuracy\"], # choose metrics\n",
    ")"
   ]
  },
  {
   "cell_type": "code",
   "execution_count": null,
   "metadata": {
    "id": "KH0sBDP1z5hY"
   },
   "outputs": [],
   "source": [
    "# Training\n",
    "history = model.fit(x_train, y_train, batch_size=10, epochs=10, verbose=2)"
   ]
  },
  {
   "cell_type": "code",
   "execution_count": null,
   "metadata": {
    "id": "y0urc5jx0FuO"
   },
   "outputs": [],
   "source": [
    "# Show loss and Accu\n",
    "plt.plot(history.history['loss'])\n",
    "plt.title('model loss')\n",
    "plt.ylabel('loss')\n",
    "plt.xlabel('epoch')\n",
    "plt.legend(['train'], loc='upper left')\n",
    "plt.show()\n",
    "\n",
    "plt.plot(history.history['accuracy'])\n",
    "plt.title('model accuracy')\n",
    "plt.ylabel('laccuracy')\n",
    "plt.xlabel('epoch')\n",
    "plt.legend(['train'], loc='upper left')\n",
    "plt.show()"
   ]
  },
  {
   "cell_type": "code",
   "execution_count": null,
   "metadata": {
    "id": "6iZNn0yk0Kdr"
   },
   "outputs": [],
   "source": [
    "# Evaluate\n",
    "model.evaluate(x_test, y_test, batch_size=32, verbose=2)"
   ]
  },
  {
   "cell_type": "code",
   "execution_count": null,
   "metadata": {
    "id": "604nin930UCn"
   },
   "outputs": [],
   "source": [
    "# Prediction\n",
    "predictions = model.predict(x_test)"
   ]
  }
 ],
 "metadata": {
  "colab": {
   "authorship_tag": "ABX9TyPa0UMB4POQJPNhCFEn9G/d",
   "collapsed_sections": [],
   "provenance": []
  },
  "kernelspec": {
   "display_name": "Python 3 (ipykernel)",
   "language": "python",
   "name": "python3"
  },
  "language_info": {
   "codemirror_mode": {
    "name": "ipython",
    "version": 3
   },
   "file_extension": ".py",
   "mimetype": "text/x-python",
   "name": "python",
   "nbconvert_exporter": "python",
   "pygments_lexer": "ipython3",
   "version": "3.9.13"
  }
 },
 "nbformat": 4,
 "nbformat_minor": 4
}
