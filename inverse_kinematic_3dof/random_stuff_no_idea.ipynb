{
 "cells": [
  {
   "cell_type": "code",
   "execution_count": 1,
   "id": "33ef8d78",
   "metadata": {},
   "outputs": [
    {
     "name": "stderr",
     "output_type": "stream",
     "text": [
      "/tmp/ipykernel_18118/4130883065.py:1: DeprecationWarning: Importing display from IPython.core.display is deprecated since IPython 7.14, please import from IPython display\n",
      "  from IPython.core.display import display, HTML\n"
     ]
    },
    {
     "data": {
      "text/html": [
       "<style>#notebook-container{width: 100%}.code_cell {flex-direction: row !important;}.code_cell .output_wrapper {width: 40%}.code_cell .input {width: 60%}</style>"
      ],
      "text/plain": [
       "<IPython.core.display.HTML object>"
      ]
     },
     "metadata": {},
     "output_type": "display_data"
    }
   ],
   "source": [
    "from IPython.core.display import display, HTML\n",
    "display(HTML(\"\"\"<style>#notebook-container{width: 100%}.code_cell {flex-direction: row !important;}.code_cell .output_wrapper {width: 40%}.code_cell .input {width: 60%}</style>\"\"\"))"
   ]
  },
  {
   "cell_type": "code",
   "execution_count": 2,
   "id": "4994a40f",
   "metadata": {},
   "outputs": [],
   "source": [
    "import torch\n",
    "import torch.nn as nn\n",
    "import torch.nn.functional as F\n",
    "import numpy as np\n",
    "import matplotlib.pyplot as plt"
   ]
  },
  {
   "cell_type": "markdown",
   "id": "a2e7ae98",
   "metadata": {},
   "source": [
    "# Create Model"
   ]
  },
  {
   "cell_type": "code",
   "execution_count": 3,
   "id": "38b4cd21",
   "metadata": {},
   "outputs": [],
   "source": [
    "class Neural(nn.Module):\n",
    "    def __init__(self):\n",
    "        super(Neural, self).__init__()\n",
    "        self.seq = nn.Sequential(\n",
    "            nn.Linear(3, 100),\n",
    "            nn.Tanh(),\n",
    "            nn.Linear(100, 3)\n",
    "            )\n",
    "    \n",
    "    def forward(self,x):\n",
    "        x = self.seq(x)\n",
    "        return x"
   ]
  },
  {
   "cell_type": "code",
   "execution_count": 4,
   "id": "4852392d",
   "metadata": {},
   "outputs": [
    {
     "name": "stdout",
     "output_type": "stream",
     "text": [
      "Neural(\n",
      "  (seq): Sequential(\n",
      "    (0): Linear(in_features=3, out_features=100, bias=True)\n",
      "    (1): Tanh()\n",
      "    (2): Linear(in_features=100, out_features=3, bias=True)\n",
      "  )\n",
      ")\n"
     ]
    }
   ],
   "source": [
    "model = Neural()\n",
    "print(model)"
   ]
  },
  {
   "cell_type": "markdown",
   "id": "8c546f86",
   "metadata": {},
   "source": [
    "# Test Input and Output with Fake data"
   ]
  },
  {
   "cell_type": "code",
   "execution_count": 5,
   "id": "51dc0bfb",
   "metadata": {},
   "outputs": [
    {
     "name": "stdout",
     "output_type": "stream",
     "text": [
      "tensor([[ 0.5546, -0.3670, -1.1554],\n",
      "        [ 0.1488,  1.6004, -2.2068],\n",
      "        [ 1.3327,  0.3522,  1.4457],\n",
      "        [ 0.2227, -0.5922, -1.4854],\n",
      "        [ 0.3382,  0.2373,  0.3203],\n",
      "        [-0.5176, -1.9909,  0.5522],\n",
      "        [ 1.2672,  0.0404, -1.5949],\n",
      "        [ 0.8923, -0.4759,  2.0397],\n",
      "        [-1.3051, -1.1264, -0.7466],\n",
      "        [ 1.0795,  0.5210,  0.1983]])\n",
      "torch.Size([10, 3])\n"
     ]
    }
   ],
   "source": [
    "input_fake = torch.randn(10,3)\n",
    "print(input_fake)\n",
    "print(input_fake.size())"
   ]
  },
  {
   "cell_type": "code",
   "execution_count": 6,
   "id": "36c7fb2c",
   "metadata": {},
   "outputs": [
    {
     "name": "stdout",
     "output_type": "stream",
     "text": [
      "tensor([[-0.5588, -0.1495,  0.0231],\n",
      "        [ 0.1199,  0.0157,  0.0039],\n",
      "        [-0.2212, -0.5168,  0.7484],\n",
      "        [-0.5163, -0.0602, -0.1423],\n",
      "        [-0.2164, -0.3114,  0.3549],\n",
      "        [-0.4352, -0.0682, -0.2357],\n",
      "        [-0.6594, -0.1948,  0.1347],\n",
      "        [-0.2498, -0.4162,  0.7020],\n",
      "        [-0.1219,  0.0868, -0.4692],\n",
      "        [-0.3632, -0.4102,  0.5335]], grad_fn=<AddmmBackward0>)\n",
      "torch.Size([10, 3])\n"
     ]
    }
   ],
   "source": [
    "output_fake = model(input_fake)\n",
    "print(output_fake)\n",
    "print(output_fake.size())"
   ]
  },
  {
   "cell_type": "markdown",
   "id": "7c244a42",
   "metadata": {},
   "source": [
    "# Generating Data from Forward Kinematics\n",
    "$ x_E = l_1 cos(q_1) + l_2 cos(q_1 + q_2) + l_3 cos(q_1 + q_2 + q_3) $\n",
    "\n",
    "$ y_E = l_1 sin(q_1) + l_2 sin(q_1 + q_2) + l_3 sin(q_1 + q_2 + q_3) $\n",
    "\n",
    "$ \\theta_E = q_1 + q_2 + q_3 $\n",
    "\n",
    "$ l_1 = l_2 = l_3 = 2, q_1 \\in [0,\\pi], q_2 \\in [-\\pi,0], q_3 \\in [-\\pi/2,\\pi/2]$"
   ]
  },
  {
   "cell_type": "code",
   "execution_count": 7,
   "id": "5a83b8d4",
   "metadata": {},
   "outputs": [
    {
     "name": "stdout",
     "output_type": "stream",
     "text": [
      "q1\n",
      "(1000,)\n",
      "q2\n",
      "(1000,)\n",
      "q3\n",
      "(1000,)\n"
     ]
    },
    {
     "data": {
      "text/plain": [
       "(None, None)"
      ]
     },
     "execution_count": 7,
     "metadata": {},
     "output_type": "execute_result"
    }
   ],
   "source": [
    "l1 = l2 = l3 = 2\n",
    "\n",
    "q1 = np.linspace(0, np.pi,1000)\n",
    "q2 = np.linspace(-np.pi, 0,1000)\n",
    "q3 = np.linspace(-np.pi/2, np.pi/2, 1000)\n",
    "print(\"q1\"),print(np.shape(q1))\n",
    "print(\"q2\"),print(np.shape(q2))\n",
    "print(\"q3\"),print(np.shape(q3))"
   ]
  },
  {
   "cell_type": "code",
   "execution_count": 8,
   "id": "ea6bd09b",
   "metadata": {},
   "outputs": [],
   "source": [
    "x = l1*np.cos(q1) + l2*np.cos(q1+q2) + l3*np.cos(q1+q2+q3)\n",
    "y = l1*np.sin(q1) + l2*np.sin(q1+q2) + l3*np.sin(q1+q2+q3)\n",
    "t = q1+q2+q3"
   ]
  },
  {
   "cell_type": "code",
   "execution_count": 9,
   "id": "92a6f0a5",
   "metadata": {},
   "outputs": [
    {
     "name": "stdout",
     "output_type": "stream",
     "text": [
      "(1000,)\n",
      "(1000,)\n",
      "(1000,)\n"
     ]
    }
   ],
   "source": [
    "print(np.shape(x))\n",
    "print(np.shape(y))\n",
    "print(np.shape(t))"
   ]
  },
  {
   "cell_type": "code",
   "execution_count": 10,
   "id": "485e5795",
   "metadata": {},
   "outputs": [],
   "source": [
    "x = np.expand_dims(x, axis=1)\n",
    "y = np.expand_dims(y, axis=1)\n",
    "t = np.expand_dims(t, axis=1)"
   ]
  },
  {
   "cell_type": "code",
   "execution_count": 11,
   "id": "239be58c",
   "metadata": {},
   "outputs": [
    {
     "name": "stdout",
     "output_type": "stream",
     "text": [
      "(1000, 1)\n",
      "(1000, 1)\n",
      "(1000, 1)\n"
     ]
    }
   ],
   "source": [
    "print(np.shape(x))\n",
    "print(np.shape(y))\n",
    "print(np.shape(t))"
   ]
  },
  {
   "cell_type": "code",
   "execution_count": 12,
   "id": "2736c84c",
   "metadata": {},
   "outputs": [
    {
     "name": "stdout",
     "output_type": "stream",
     "text": [
      "(1, 1000)\n",
      "(1, 1000)\n",
      "(1, 1000)\n"
     ]
    }
   ],
   "source": [
    "x = x.transpose()\n",
    "y = y.transpose()\n",
    "t = t.transpose()\n",
    "\n",
    "print(np.shape(x))\n",
    "print(np.shape(y))\n",
    "print(np.shape(t))"
   ]
  },
  {
   "cell_type": "code",
   "execution_count": 13,
   "id": "b563a885",
   "metadata": {},
   "outputs": [],
   "source": [
    "g = np.append(x,y,axis=0)\n",
    "h = np.append(g,t,axis=0)"
   ]
  },
  {
   "cell_type": "code",
   "execution_count": 14,
   "id": "5dba9de1",
   "metadata": {},
   "outputs": [
    {
     "name": "stdout",
     "output_type": "stream",
     "text": [
      "[[-3.67394040e-16 -1.88384765e-02 -3.76159390e-02 ... -4.03753682e+00\n",
      "  -4.01881870e+00 -4.00000000e+00]\n",
      " [ 2.00000000e+00  1.99362159e+00  1.98706562e+00 ... -1.96190789e+00\n",
      "  -1.98104267e+00 -2.00000000e+00]\n",
      " [-4.71238898e+00 -4.70295477e+00 -4.69352056e+00 ...  4.69352056e+00\n",
      "   4.70295477e+00  4.71238898e+00]]\n"
     ]
    }
   ],
   "source": [
    "print(h)"
   ]
  },
  {
   "cell_type": "code",
   "execution_count": 15,
   "id": "fbbd3ef0",
   "metadata": {},
   "outputs": [
    {
     "name": "stdout",
     "output_type": "stream",
     "text": [
      "(3, 1000)\n",
      "(1000, 3)\n"
     ]
    }
   ],
   "source": [
    "print(np.shape(h))\n",
    "h = h.transpose()\n",
    "print(np.shape(h))"
   ]
  },
  {
   "cell_type": "code",
   "execution_count": 16,
   "id": "6626379e",
   "metadata": {},
   "outputs": [],
   "source": [
    "input_real = torch.tensor(h)"
   ]
  },
  {
   "cell_type": "code",
   "execution_count": 17,
   "id": "d87e08e2",
   "metadata": {},
   "outputs": [
    {
     "name": "stdout",
     "output_type": "stream",
     "text": [
      "torch.Size([1000, 3])\n"
     ]
    }
   ],
   "source": [
    "print(input_real.size())"
   ]
  },
  {
   "cell_type": "code",
   "execution_count": 18,
   "id": "1241dccb",
   "metadata": {},
   "outputs": [],
   "source": [
    "output_real = model(input_real.float())"
   ]
  },
  {
   "cell_type": "code",
   "execution_count": 19,
   "id": "6bbcaf8f",
   "metadata": {},
   "outputs": [
    {
     "name": "stdout",
     "output_type": "stream",
     "text": [
      "torch.Size([1000, 3])\n"
     ]
    }
   ],
   "source": [
    "print(output_real.size())"
   ]
  },
  {
   "cell_type": "markdown",
   "id": "33f48502",
   "metadata": {},
   "source": [
    "# Create Ground Trust"
   ]
  },
  {
   "cell_type": "code",
   "execution_count": 20,
   "id": "ba2a8384",
   "metadata": {},
   "outputs": [],
   "source": [
    "q1 = np.expand_dims(q1, axis=1)\n",
    "q2 = np.expand_dims(q2, axis=1)\n",
    "q3 = np.expand_dims(q3, axis=1)"
   ]
  },
  {
   "cell_type": "code",
   "execution_count": 21,
   "id": "fcf7c4c9",
   "metadata": {},
   "outputs": [
    {
     "name": "stdout",
     "output_type": "stream",
     "text": [
      "q1\n",
      "(1000, 1)\n",
      "q2\n",
      "(1000, 1)\n",
      "q3\n",
      "(1000, 1)\n"
     ]
    },
    {
     "data": {
      "text/plain": [
       "(None, None)"
      ]
     },
     "execution_count": 21,
     "metadata": {},
     "output_type": "execute_result"
    }
   ],
   "source": [
    "print(\"q1\"),print(np.shape(q1))\n",
    "print(\"q2\"),print(np.shape(q2))\n",
    "print(\"q3\"),print(np.shape(q3))"
   ]
  },
  {
   "cell_type": "code",
   "execution_count": 22,
   "id": "905fafc2",
   "metadata": {},
   "outputs": [
    {
     "name": "stdout",
     "output_type": "stream",
     "text": [
      "(1, 1000)\n",
      "(1, 1000)\n",
      "(1, 1000)\n"
     ]
    }
   ],
   "source": [
    "q1 = q1.transpose()\n",
    "q2 = q2.transpose()\n",
    "q3 = q3.transpose()\n",
    "\n",
    "print(np.shape(q1))\n",
    "print(np.shape(q2))\n",
    "print(np.shape(q3))"
   ]
  },
  {
   "cell_type": "code",
   "execution_count": 23,
   "id": "b8502252",
   "metadata": {},
   "outputs": [
    {
     "name": "stdout",
     "output_type": "stream",
     "text": [
      "[[ 0.          0.00314474  0.00628947 ...  3.13530318  3.13844792\n",
      "   3.14159265]\n",
      " [-3.14159265 -3.13844792 -3.13530318 ... -0.00628947 -0.00314474\n",
      "   0.        ]\n",
      " [-1.57079633 -1.56765159 -1.56450685 ...  1.56450685  1.56765159\n",
      "   1.57079633]]\n"
     ]
    }
   ],
   "source": [
    "p = np.append(q1,q2,axis=0)\n",
    "o = np.append(p,q3,axis=0)"
   ]
  },
  {
   "cell_type": "code",
   "execution_count": 24,
   "id": "2b7d33b3",
   "metadata": {},
   "outputs": [
    {
     "name": "stdout",
     "output_type": "stream",
     "text": [
      "(3, 1000)\n",
      "(1000, 3)\n"
     ]
    }
   ],
   "source": [
    "print(np.shape(o))\n",
    "o = o.transpose()\n",
    "print(np.shape(o))"
   ]
  },
  {
   "cell_type": "code",
   "execution_count": 25,
   "id": "0e5d373f",
   "metadata": {},
   "outputs": [],
   "source": [
    "ground_trust = torch.tensor(o)"
   ]
  },
  {
   "cell_type": "code",
   "execution_count": 33,
   "id": "32c8286a",
   "metadata": {},
   "outputs": [
    {
     "name": "stdout",
     "output_type": "stream",
     "text": [
      "100\n"
     ]
    }
   ],
   "source": [
    "from torch.utils.data import Dataset, DataLoader\n",
    "train_loader = DataLoader(input_real, batch_size=10, shuffle=True)\n",
    "print(len(train_loader))"
   ]
  },
  {
   "cell_type": "code",
   "execution_count": 31,
   "id": "fae73dc3",
   "metadata": {},
   "outputs": [],
   "source": [
    "#init loss and optimizer\n",
    "criterion = nn.CrossEntropyLoss()\n",
    "optimizer = torch.optim.Adam(params = model.parameters(),lr = 0.0003)"
   ]
  },
  {
   "cell_type": "code",
   "execution_count": null,
   "id": "d34c2665",
   "metadata": {},
   "outputs": [],
   "source": [
    "#train\n",
    "for epc in range(10):\n",
    "    model.train()\n",
    "    num_cor = 0\n",
    "    num_samp = 0\n",
    "    loss_list = []\n",
    "    for data,target in dataloader:\n",
    "        data = data.to(\"cuda\")\n",
    "        target = target.to(\"cuda\")\n",
    "\n",
    "        #forward\n",
    "        output = model(data)\n",
    "        loss = criterion(output,target)\n",
    "        loss_list.append(loss)\n",
    "        \n",
    "        _,pred = output.max(1)\n",
    "\n",
    "        num_cor += (pred == target).sum()\n",
    "        num_samp += pred.size(0)\n",
    "        \n",
    "\n",
    "        #backward\n",
    "        optimizer.zero_grad()\n",
    "        loss.backward()\n",
    "\n",
    "        #grad decent or adam\n",
    "        optimizer.step()\n",
    "    acc = num_cor/num_samp\n",
    "    print(\"EPC : \"+str(epc)+\"   Acc:  \"+str(acc))"
   ]
  }
 ],
 "metadata": {
  "kernelspec": {
   "display_name": "Python 3 (ipykernel)",
   "language": "python",
   "name": "python3"
  },
  "language_info": {
   "codemirror_mode": {
    "name": "ipython",
    "version": 3
   },
   "file_extension": ".py",
   "mimetype": "text/x-python",
   "name": "python",
   "nbconvert_exporter": "python",
   "pygments_lexer": "ipython3",
   "version": "3.9.13"
  },
  "varInspector": {
   "cols": {
    "lenName": 16,
    "lenType": 16,
    "lenVar": 40
   },
   "kernels_config": {
    "python": {
     "delete_cmd_postfix": "",
     "delete_cmd_prefix": "del ",
     "library": "var_list.py",
     "varRefreshCmd": "print(var_dic_list())"
    },
    "r": {
     "delete_cmd_postfix": ") ",
     "delete_cmd_prefix": "rm(",
     "library": "var_list.r",
     "varRefreshCmd": "cat(var_dic_list()) "
    }
   },
   "types_to_exclude": [
    "module",
    "function",
    "builtin_function_or_method",
    "instance",
    "_Feature"
   ],
   "window_display": false
  }
 },
 "nbformat": 4,
 "nbformat_minor": 5
}
