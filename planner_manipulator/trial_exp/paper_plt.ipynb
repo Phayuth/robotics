{
 "cells": [
  {
   "cell_type": "code",
   "execution_count": 3,
   "metadata": {},
   "outputs": [],
   "source": [
    "import os\n",
    "import sys\n",
    "\n",
    "wd = os.path.abspath(os.getcwd())\n",
    "sys.path.append(str(wd))\n",
    "\n",
    "import time\n",
    "import matplotlib.pyplot as plt\n",
    "from matplotlib import ticker\n",
    "\n",
    "import numpy as np\n",
    "import pickle"
   ]
  },
  {
   "cell_type": "code",
   "execution_count": null,
   "metadata": {},
   "outputs": [],
   "source": [
    "name = \"informed2d\"\n",
    "# name = \"connect2d\"\n",
    "# name = \"connectlocgap2d\"\n",
    "# name = \"connectstar2d\"\n",
    "# name = \"connectstarlocgap2d\"\n",
    "\n",
    "with open(f\"/home/yuth/ws_yuthdev/robotics_manipulator/datasave/planner_performance/single2d/{name}_costgraph.pkl\", \"rb\") as file:\n",
    "    loadedList = pickle.load(file)"
   ]
  },
  {
   "cell_type": "code",
   "execution_count": 4,
   "metadata": {},
   "outputs": [],
   "source": [
    "def get_data_plot(loadedList):\n",
    "    # Determine a common set of x-values based on the range of x-values in the datasets\n",
    "    x_min = min(min(data_set, key=lambda x: x[0])[0] for data_set in loadedList)\n",
    "    # x_max = max(max(data_set, key=lambda x: x[0])[0] for data_set in loadedList)\n",
    "    common_x_values = np.arange(x_min, 2000, 1)\n",
    "\n",
    "    # Interpolate y-values for the common_x_values in each dataset\n",
    "    interpolated_data_sets = []\n",
    "    for data_set in loadedList:\n",
    "        x_values, y_values = zip(*data_set)\n",
    "        interpolated_y_values = np.interp(common_x_values, x_values, y_values)\n",
    "        interpolated_data_sets.append(interpolated_y_values)\n",
    "\n",
    "    # Calculate the mean curve\n",
    "    mean_curve = np.mean(interpolated_data_sets, axis=0)\n",
    "    std_curve = np.std(interpolated_data_sets, axis=0)\n",
    "    mean_p_std = mean_curve + std_curve\n",
    "    mean_m_std = mean_curve - std_curve\n",
    "    return common_x_values, mean_curve, mean_p_std, mean_m_std"
   ]
  },
  {
   "cell_type": "markdown",
   "metadata": {},
   "source": [
    "# Not Corret Yet"
   ]
  },
  {
   "cell_type": "code",
   "execution_count": null,
   "metadata": {},
   "outputs": [],
   "source": [
    "def checkgap(gap, x):\n",
    "    for i in range(len(gap)-1):\n",
    "        lb = gap[i]\n",
    "        ub = gap[i+1]\n",
    "        if lb < x <= ub:\n",
    "            # print(f\"x is in gap of lb={lb} and ub={ub}\")\n",
    "            break\n",
    "    return i, i+1"
   ]
  },
  {
   "cell_type": "code",
   "execution_count": null,
   "metadata": {},
   "outputs": [],
   "source": [
    "def update_gap(iteration_original, cost_original, iteration_interpolated, cost_interpolated):\n",
    "    for j, x in enumerate(iteration_original):\n",
    "        if j == 0:\n",
    "            continue\n",
    "        lbi, ubi = checkgap(iteration_interpolated, x)\n",
    "        cost_interpolated[lbi] = cost_original[j-1]\n",
    "        cost_interpolated[ubi] = cost_original[j]"
   ]
  },
  {
   "cell_type": "code",
   "execution_count": null,
   "metadata": {},
   "outputs": [],
   "source": [
    "def fill_gap(cost_interpolated):\n",
    "    firstNone = True\n",
    "    for i, ix in enumerate(cost_interpolated):\n",
    "        if ix is not None:\n",
    "            firstNone = False\n",
    "        if firstNone is False:\n",
    "            if ix is None:\n",
    "                cost_interpolated[i] = cost_interpolated[i-1]"
   ]
  },
  {
   "cell_type": "code",
   "execution_count": null,
   "metadata": {},
   "outputs": [],
   "source": [
    "def interapolate_cost_graph(singlelist):\n",
    "    iteration_original, cost_original = zip(*singlelist)\n",
    "    iteration_interpolated = np.arange(0,2050,50)\n",
    "    cost_interpolated = [None]*len(iteration_interpolated)\n",
    "    update_gap(iteration_original, cost_original, iteration_interpolated, cost_interpolated)\n",
    "    fill_gap(cost_interpolated)\n",
    "    return iteration_interpolated, cost_interpolated"
   ]
  },
  {
   "cell_type": "code",
   "execution_count": null,
   "metadata": {},
   "outputs": [],
   "source": [
    "common_x_values, mean_curve, mean_p_std, mean_m_std = get_data_plot(loadedList)\n",
    "# Plot the mean curve\n",
    "plt.figure(figsize=(15, 10))\n",
    "plt.plot(common_x_values, mean_curve, label=\"Mean Curve\")\n",
    "plt.fill_between(common_x_values, mean_p_std, mean_m_std, alpha=0.3)\n",
    "plt.xlabel(\"X Values\")\n",
    "plt.ylabel(\"Mean Y Values\")\n",
    "plt.title(\"Mean Curve\")\n",
    "plt.legend()"
   ]
  },
  {
   "cell_type": "markdown",
   "metadata": {},
   "source": [
    "# Single List"
   ]
  },
  {
   "cell_type": "code",
   "execution_count": null,
   "metadata": {},
   "outputs": [],
   "source": [
    "iteration_interpolated, cost_interpolated = interapolate_cost_graph(loadedList[4])\n",
    "plt.plot(iteration_interpolated, cost_interpolated)"
   ]
  },
  {
   "cell_type": "markdown",
   "metadata": {},
   "source": [
    "# Per Planner Plot"
   ]
  },
  {
   "cell_type": "code",
   "execution_count": null,
   "metadata": {},
   "outputs": [],
   "source": [
    "iteration_interpolated = np.arange(0,2050,50)\n",
    "trial_data = []\n",
    "for i in range(len(loadedList)):\n",
    "    _, cost_interpolated = interapolate_cost_graph(loadedList[i])\n",
    "    trial_data.append(cost_interpolated)"
   ]
  },
  {
   "cell_type": "code",
   "execution_count": null,
   "metadata": {},
   "outputs": [],
   "source": [
    "for i in range(100):\n",
    "    plt.plot(iteration_interpolated, trial_data[i], 'r-')"
   ]
  },
  {
   "cell_type": "code",
   "execution_count": null,
   "metadata": {},
   "outputs": [],
   "source": [
    "def get_mean_std(plannercostlist):\n",
    "    trial_data = []\n",
    "    for i in range(len(plannercostlist)):\n",
    "        iteration_interpolated, cost_interpolated = interapolate_cost_graph(plannercostlist[i])\n",
    "        trial_data.append(cost_interpolated)\n",
    "\n",
    "    trial_data = np.array(trial_data, dtype=np.float64)\n",
    "    mean = np.nanmean(trial_data, axis=0)\n",
    "    std = np.nanstd(trial_data, axis=0)\n",
    "    meanpstd = mean+std\n",
    "    meanmstd = mean-std\n",
    "    return iteration_interpolated, mean, meanpstd, meanmstd"
   ]
  },
  {
   "cell_type": "code",
   "execution_count": null,
   "metadata": {},
   "outputs": [],
   "source": [
    "iteration_interpolated, mean, meanpstd, meanmstd = get_mean_std(loadedList)\n",
    "print(f\"==>> iteration_interpolated: {iteration_interpolated}\")\n",
    "print(f\"==>> mean: {mean}\")\n",
    "print(f\"==>> meanpstd: {meanpstd}\")\n",
    "print(f\"==>> meanmstd: {meanmstd}\")"
   ]
  },
  {
   "cell_type": "code",
   "execution_count": null,
   "metadata": {},
   "outputs": [],
   "source": [
    "plt.figure(figsize=(15,10))\n",
    "plt.plot(iteration_interpolated, mean)\n",
    "# plt.plot(iteration_interpolated, meanpstd)\n",
    "# plt.plot(iteration_interpolated, meanmstd)\n",
    "plt.fill_between(iteration_interpolated, meanpstd, meanmstd, color='blue', alpha=0.3, label=\"Mean ± Var\")\n"
   ]
  },
  {
   "cell_type": "markdown",
   "metadata": {},
   "source": [
    "#"
   ]
  },
  {
   "cell_type": "markdown",
   "metadata": {},
   "source": [
    "# All data plot (Used Linear Interpolation)"
   ]
  },
  {
   "cell_type": "code",
   "execution_count": 3,
   "metadata": {},
   "outputs": [],
   "source": [
    "nameinform = \"informed2d\"\n",
    "multi_nameconnect = \"connect2d\"\n",
    "multi_nameconnectlocgap = \"connectlocgap2d\"\n",
    "multi_nameconnectstar = \"connectstar2d\"\n",
    "multi_nameconnectstarlocgap = \"connectstarlocgap2d\"\n",
    "\n",
    "with open(f\"/home/yuth/ws_yuthdev/robotics_manipulator/datasave/planner_performance/single2d/{nameinform}_costgraph.pkl\", \"rb\") as file:\n",
    "    informloadedList = pickle.load(file)\n",
    "with open(f\"/home/yuth/ws_yuthdev/robotics_manipulator/datasave/planner_performance/single2d/{multi_nameconnect}_costgraph.pkl\", \"rb\") as file:\n",
    "    multi_connectloadedList = pickle.load(file)\n",
    "with open(f\"/home/yuth/ws_yuthdev/robotics_manipulator/datasave/planner_performance/single2d/{multi_nameconnectlocgap}_costgraph.pkl\", \"rb\") as file:\n",
    "    multi_connectlocgaploadedList = pickle.load(file)\n",
    "with open(f\"/home/yuth/ws_yuthdev/robotics_manipulator/datasave/planner_performance/single2d/{multi_nameconnectstar}_costgraph.pkl\", \"rb\") as file:\n",
    "    multi_connectstarloadedList = pickle.load(file)\n",
    "with open(f\"/home/yuth/ws_yuthdev/robotics_manipulator/datasave/planner_performance/single2d/{multi_nameconnectstarlocgap}_costgraph.pkl\", \"rb\") as file:\n",
    "    multi_connectstarlocgaploadedList = pickle.load(file)"
   ]
  },
  {
   "cell_type": "code",
   "execution_count": 4,
   "metadata": {},
   "outputs": [],
   "source": [
    "common_x_values_inform, mean_curve_inform, mean_p_std_inform, mean_m_std_inform = get_data_plot(informloadedList)\n",
    "common_x_values_connect, mean_curve_connect, mean_p_std_connect, mean_m_std_connect = get_data_plot(multi_connectloadedList)\n",
    "common_x_values_connect_loc, mean_curve_connect_loc, mean_p_std_connect_loc, mean_m_std_connect_loc = get_data_plot(multi_connectlocgaploadedList)\n",
    "common_x_values_connectstar, mean_curve_connectstar, mean_p_std_connectstar, mean_m_std_connectstar = get_data_plot(multi_connectstarloadedList)\n",
    "common_x_values_connectstar_loc, mean_curve_connectstar_loc, mean_p_std_connectstar_loc, mean_m_std_connectstar_loc = get_data_plot(multi_connectstarlocgaploadedList)\n",
    "\n",
    "# iteration_interpolated_inform, mean_inform, meanpstd_inform, meanmstd_inform = get_mean_std(informloadedList)\n",
    "# iteration_interpolated_connect, mean_connect, meanpstd_connect, meanmstd_connect = get_mean_std(connectloadedList)\n",
    "# iteration_interpolated_connectlocgap, mean_connectlocgap, meanpstd_connectlocgap, meanmstd_connectlocgap = get_mean_std(connectlocgaploadedList)\n",
    "# iteration_interpolated_connectstar, mean_connectstar, meanpstd_connectstar, meanmstd_connectstar = get_mean_std(connectstarloadedList)\n",
    "# iteration_interpolated_connectstarlocgap, mean_connectstarlocgap, meanpstd_connectstarlocgap, meanmstd_connectstarlocgap = get_mean_std(connectstarlocgaploadedList)"
   ]
  },
  {
   "cell_type": "code",
   "execution_count": 6,
   "metadata": {},
   "outputs": [
    {
     "data": {
      "text/plain": [
       "<matplotlib.legend.Legend at 0x7f8b663923a0>"
      ]
     },
     "execution_count": 6,
     "metadata": {},
     "output_type": "execute_result"
    },
    {
     "data": {
      "image/png": "[encoded data removed]",
      "text/plain": [
       "<Figure size 489.696x244.848 with 1 Axes>"
      ]
     },
     "metadata": {
      "needs_background": "light"
     },
     "output_type": "display_data"
    }
   ],
   "source": [
    "fig = plt.figure(figsize=(3.40067*2,3.40067), frameon=True, layout='tight')\n",
    "ax = plt.subplot(1,1,1)\n",
    "\n",
    "ax.plot(common_x_values_inform, mean_curve_inform, label=\"Inform-RRT*\", linewidth=3, linestyle='solid', color=\"#558b2f\")\n",
    "ax.plot(common_x_values_connect, mean_curve_connect, label=\"RRT-Connect\", linewidth=3, linestyle='solid', color=\"#ff8f00\")\n",
    "ax.plot(common_x_values_connect_loc, mean_curve_connect_loc, label=\"RRT-Connect + LocGap\", linewidth=3, linestyle='--', color=\"#1565c0\")\n",
    "ax.plot(common_x_values_connectstar, mean_curve_connectstar, label=\"RRT*-Connect\", linewidth=3, linestyle='solid', color=\"#9e9d24\")\n",
    "ax.plot(common_x_values_connectstar_loc, mean_curve_connectstar_loc, label=\"RRT*-Connect + LocGap\", linewidth=3, linestyle='--', color=\"#6a1b9a\")\n",
    "\n",
    "\n",
    "# plt.fill_between(common_x_values_inform, mean_p_std_inform, mean_m_std_inform, alpha=0.05)\n",
    "# plt.fill_between(common_x_values_connect, mean_p_std_connect, mean_m_std_connect, alpha=0.05)\n",
    "# plt.fill_between(common_x_values_connect_loc, mean_p_std_connect_loc, mean_m_std_connect_loc, alpha=0.05)\n",
    "# plt.fill_between(common_x_values_connectstar, mean_p_std_connectstar, mean_m_std_connectstar, alpha=0.05)\n",
    "# plt.fill_between(common_x_values_connectstar_loc, mean_p_std_connectstar_loc, mean_m_std_connectstar_loc, alpha=0.05)\n",
    "# '-', '--', '-.', ':', 'None', ' ', '', 'solid', 'dashed', 'dashdot', 'dotted'\n",
    "\n",
    "ax.set_xlabel(\"Iteration\")\n",
    "ax.set_ylabel(\"Cost\")\n",
    "ax.grid(axis='y')\n",
    "ax.xaxis.set_minor_locator(ticker.AutoMinorLocator())\n",
    "ax.tick_params(axis = \"both\", which=\"major\", direction='in', length=3, width=1, colors='black', grid_color='gray', grid_alpha=0.2)\n",
    "ax.tick_params(axis = \"both\", which=\"minor\", direction='in', length=1, width=1, colors='black', grid_color='gray', grid_alpha=0.1)\n",
    "ax.set_xlim((0,2025))\n",
    "ax.legend()\n",
    "\n",
    "# fig.savefig(f\"/home/yuth/figgggg.pdf\", format='pdf', bbox_inches='tight')"
   ]
  },
  {
   "cell_type": "code",
   "execution_count": null,
   "metadata": {},
   "outputs": [],
   "source": []
  },
  {
   "cell_type": "markdown",
   "metadata": {},
   "source": [
    "# Multi Case"
   ]
  },
  {
   "cell_type": "code",
   "execution_count": 5,
   "metadata": {},
   "outputs": [],
   "source": [
    "multi_nameconnect = \"multi_connect2d\"\n",
    "multi_nameconnectlocgap = \"multi_connectlocgap2d\"\n",
    "multi_nameconnectstar = \"multi_connectstar2d\"\n",
    "multi_nameconnectstarlocgap = \"multi_connectstarlocgap2d\"\n",
    "\n",
    "with open(f\"/home/yuth/ws_yuthdev/robotics_manipulator/datasave/planner_performance/multi2d/{multi_nameconnect}_costgraph.pkl\", \"rb\") as file:\n",
    "    multi_connectloadedList = pickle.load(file)\n",
    "with open(f\"/home/yuth/ws_yuthdev/robotics_manipulator/datasave/planner_performance/multi2d/{multi_nameconnectlocgap}_costgraph.pkl\", \"rb\") as file:\n",
    "    multi_connectlocgaploadedList = pickle.load(file)\n",
    "with open(f\"/home/yuth/ws_yuthdev/robotics_manipulator/datasave/planner_performance/multi2d/{multi_nameconnectstar}_costgraph.pkl\", \"rb\") as file:\n",
    "    multi_connectstarloadedList = pickle.load(file)\n",
    "with open(f\"/home/yuth/ws_yuthdev/robotics_manipulator/datasave/planner_performance/multi2d/{multi_nameconnectstarlocgap}_costgraph.pkl\", \"rb\") as file:\n",
    "    multi_connectstarlocgaploadedList = pickle.load(file)"
   ]
  },
  {
   "cell_type": "code",
   "execution_count": 6,
   "metadata": {},
   "outputs": [],
   "source": [
    "multi_common_x_values_connect, multi_mean_curve_connect, multi_mean_p_std_connect, multi_mean_m_std_connect = get_data_plot(multi_connectloadedList)\n",
    "multi_common_x_values_connect_loc, multi_mean_curve_connect_loc, multi_mean_p_std_connect_loc, multi_mean_m_std_connect_loc = get_data_plot(multi_connectlocgaploadedList)\n",
    "multi_common_x_values_connectstar, multi_mean_curve_connectstar, multi_mean_p_std_connectstar, multi_mean_m_std_connectstar = get_data_plot(multi_connectstarloadedList)\n",
    "multi_common_x_values_connectstar_loc, multi_mean_curve_connectstar_loc, multi_mean_p_std_connectstar_loc, multi_mean_m_std_connectstar_loc = get_data_plot(multi_connectstarlocgaploadedList)\n"
   ]
  },
  {
   "cell_type": "code",
   "execution_count": 7,
   "metadata": {},
   "outputs": [
    {
     "data": {
      "text/plain": [
       "<matplotlib.legend.Legend at 0x7f4450286be0>"
      ]
     },
     "execution_count": 7,
     "metadata": {},
     "output_type": "execute_result"
    },
    {
     "data": {
      "image/png": "[encoded data removed]",
      "text/plain": [
       "<Figure size 489.696x244.848 with 1 Axes>"
      ]
     },
     "metadata": {
      "needs_background": "light"
     },
     "output_type": "display_data"
    }
   ],
   "source": [
    "fig1 = plt.figure(figsize=(3.40067*2,3.40067), frameon=True, layout='tight')\n",
    "ax1 = plt.subplot(1,1,1)\n",
    "\n",
    "ax1.plot(multi_common_x_values_connect, multi_mean_curve_connect, label=\"RRT-Connect\", linewidth=3, linestyle='solid', color=\"#ff8f00\")\n",
    "ax1.plot(multi_common_x_values_connect_loc, multi_mean_curve_connect_loc, label=\"RRT-Connect + LocGap\", linewidth=3, linestyle='--', color=\"#1565c0\")\n",
    "ax1.plot(multi_common_x_values_connectstar, multi_mean_curve_connectstar, label=\"RRT*-Connect\", linewidth=3, linestyle='solid', color=\"#9e9d24\")\n",
    "ax1.plot(multi_common_x_values_connectstar_loc, multi_mean_curve_connectstar_loc, label=\"RRT*-Connect + LocGap\", linewidth=3, linestyle='--', color=\"#6a1b9a\")\n",
    "\n",
    "ax1.set_xlabel(\"Iteration\")\n",
    "ax1.set_ylabel(\"Cost\")\n",
    "ax1.grid(axis='y')\n",
    "ax1.xaxis.set_minor_locator(ticker.AutoMinorLocator())\n",
    "ax1.tick_params(axis = \"both\", which=\"major\", direction='in', length=3, width=1, colors='black', grid_color='gray', grid_alpha=0.2)\n",
    "ax1.tick_params(axis = \"both\", which=\"minor\", direction='in', length=1, width=1, colors='black', grid_color='gray', grid_alpha=0.1)\n",
    "ax1.set_xlim((0,2025))\n",
    "ax1.legend()\n",
    "\n",
    "# fig.savefig(f\"/home/yuth/figgggg.pdf\", format='pdf', bbox_inches='tight')"
   ]
  },
  {
   "cell_type": "code",
   "execution_count": null,
   "metadata": {},
   "outputs": [],
   "source": []
  }
 ],
 "metadata": {
  "kernelspec": {
   "display_name": "pyyuth_env",
   "language": "python",
   "name": "python3"
  },
  "language_info": {
   "codemirror_mode": {
    "name": "ipython",
    "version": 3
   },
   "file_extension": ".py",
   "mimetype": "text/x-python",
   "name": "python",
   "nbconvert_exporter": "python",
   "pygments_lexer": "ipython3",
   "version": "3.9.16"
  },
  "orig_nbformat": 4
 },
 "nbformat": 4,
 "nbformat_minor": 2
}
